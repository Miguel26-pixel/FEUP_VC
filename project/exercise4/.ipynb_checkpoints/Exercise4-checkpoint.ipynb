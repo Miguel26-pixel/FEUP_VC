{
 "cells": [
  {
   "attachments": {},
   "cell_type": "markdown",
   "id": "d05492a2",
   "metadata": {},
   "source": [
    "## Exercise 4 - Generate a bird's eye view of a lane"
   ]
  },
  {
   "cell_type": "markdown",
   "id": "cf41c504",
   "metadata": {},
   "source": [
    "- Develop an application that processes an image of a lane, as seen by a car driver (fig.5.a), generating a bird's eye view of the lane (fig. 5.b).\n",
    "- Notes: \n",
    "    - You may use some simplification assumptions regarding the scene that have implications in the quality of the acquired images and in the image processing steps; indicate, in the report, the ones that you have used; you may acquire your own images.\n",
    "    - For detecting the limits of the lane you may use both edge detection and segmentation techniques.\n",
    "    - Use images in which the lower part of the image (representing the zone of the lane closest to the car) corresponds to a straight part of the lane."
   ]
  },
  {
   "cell_type": "code",
   "execution_count": 5,
   "id": "f18905cb",
   "metadata": {},
   "outputs": [],
   "source": [
    "import matplotlib.pyplot as plt\n",
    "import cv2\n",
    "import os, glob\n",
    "import numpy as np\n",
    "\n",
    "def show_images(images, cmap=None):\n",
    "    cols = 2\n",
    "    rows = (len(images)+1)//cols\n",
    "    \n",
    "    plt.figure(figsize=(10, 11))\n",
    "    for i, image in enumerate(images):\n",
    "        plt.subplot(rows, cols, i+1)\n",
    "        # use gray scale color map if there is only one channel\n",
    "        cmap = 'gray' if len(image.shape)==2 else cmap\n",
    "        plt.imshow(image, cmap=cmap)\n",
    "        plt.xticks([])\n",
    "        plt.yticks([])\n",
    "    plt.tight_layout(pad=0, h_pad=0, w_pad=0)\n",
    "    plt.show()\n",
    "\n",
    "test_images = [plt.imread(path) for path in glob.glob('../images/test_images/*.jpg')]\n",
    "\n",
    "show_images(test_images)"
   ]
  },
  {
   "cell_type": "code",
   "execution_count": null,
   "id": "9c5668ab",
   "metadata": {},
   "outputs": [],
   "source": []
  }
 ],
 "metadata": {
  "kernelspec": {
   "display_name": "Python 3 (ipykernel)",
   "language": "python",
   "name": "python3"
  },
  "language_info": {
   "codemirror_mode": {
    "name": "ipython",
    "version": 3
   },
   "file_extension": ".py",
   "mimetype": "text/x-python",
   "name": "python",
   "nbconvert_exporter": "python",
   "pygments_lexer": "ipython3",
   "version": "3.10.10"
  }
 },
 "nbformat": 4,
 "nbformat_minor": 5
}
