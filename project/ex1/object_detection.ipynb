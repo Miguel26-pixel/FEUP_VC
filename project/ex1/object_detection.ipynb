{
 "cells": [
  {
   "attachments": {},
   "cell_type": "markdown",
   "metadata": {},
   "source": [
    "# Exercise 1 - Localize objects"
   ]
  },
  {
   "attachments": {},
   "cell_type": "markdown",
   "metadata": {},
   "source": [
    "### Step 0 - Imports && Setup"
   ]
  },
  {
   "cell_type": "code",
   "execution_count": 16,
   "metadata": {},
   "outputs": [],
   "source": [
    "from __future__ import print_function\n",
    "import cv2 as cv\n",
    "import numpy as np\n",
    "\n",
    "\n",
    "img_object = cv.imread(\"./images/tuc.png\", cv.IMREAD_GRAYSCALE)\n",
    "img_scene = cv.imread(\"./images/scene_tuc.png\", cv.IMREAD_GRAYSCALE)\n",
    "if img_object is None or img_scene is None:\n",
    "    print('Could not open or find the images!')\n",
    "    exit(0)\n",
    "\n"
   ]
  },
  {
   "attachments": {},
   "cell_type": "markdown",
   "metadata": {},
   "source": [
    "### Step 1 - Feature Detection && Description"
   ]
  },
  {
   "attachments": {},
   "cell_type": "markdown",
   "metadata": {},
   "source": [
    "#### SIFT"
   ]
  },
  {
   "cell_type": "code",
   "execution_count": 2,
   "metadata": {},
   "outputs": [],
   "source": [
    "sift = cv.SIFT_create()\n",
    "# find the keypoints and descriptors with SIFT\n",
    "keypoints_obj, descriptors_obj = sift.detectAndCompute(img_object,None)\n",
    "keypoints_scene, descriptors_scene = sift.detectAndCompute(img_scene,None)"
   ]
  },
  {
   "attachments": {},
   "cell_type": "markdown",
   "metadata": {},
   "source": [
    "#### SURF  "
   ]
  },
  {
   "cell_type": "code",
   "execution_count": 10,
   "metadata": {},
   "outputs": [
    {
     "ename": "AttributeError",
     "evalue": "module 'cv2' has no attribute 'xfeatures2d_SURF'",
     "output_type": "error",
     "traceback": [
      "\u001b[0;31m---------------------------------------------------------------------------\u001b[0m",
      "\u001b[0;31mAttributeError\u001b[0m                            Traceback (most recent call last)",
      "\u001b[1;32m/home/sergio/Documents/feup/FEUP_VC/project/ex1/object_detection.ipynb Cell 8\u001b[0m in \u001b[0;36m2\n\u001b[1;32m      <a href='vscode-notebook-cell:/home/sergio/Documents/feup/FEUP_VC/project/ex1/object_detection.ipynb#X10sZmlsZQ%3D%3D?line=0'>1</a>\u001b[0m minHessian \u001b[39m=\u001b[39m \u001b[39m400\u001b[39m\n\u001b[0;32m----> <a href='vscode-notebook-cell:/home/sergio/Documents/feup/FEUP_VC/project/ex1/object_detection.ipynb#X10sZmlsZQ%3D%3D?line=1'>2</a>\u001b[0m surf \u001b[39m=\u001b[39m cv\u001b[39m.\u001b[39;49mxfeatures2d_SURF\u001b[39m.\u001b[39mcreate(hessianThreshold\u001b[39m=\u001b[39mminHessian)\n\u001b[1;32m      <a href='vscode-notebook-cell:/home/sergio/Documents/feup/FEUP_VC/project/ex1/object_detection.ipynb#X10sZmlsZQ%3D%3D?line=2'>3</a>\u001b[0m \u001b[39m# find the keypoints and descriptors with SURF\u001b[39;00m\n\u001b[1;32m      <a href='vscode-notebook-cell:/home/sergio/Documents/feup/FEUP_VC/project/ex1/object_detection.ipynb#X10sZmlsZQ%3D%3D?line=3'>4</a>\u001b[0m keypoints_obj, descriptors_obj \u001b[39m=\u001b[39m surf\u001b[39m.\u001b[39mdetectAndCompute(img_object,\u001b[39mNone\u001b[39;00m)\n",
      "\u001b[0;31mAttributeError\u001b[0m: module 'cv2' has no attribute 'xfeatures2d_SURF'"
     ]
    }
   ],
   "source": [
    "minHessian = 400\n",
    "surf = cv.xfeatures2d_SURF.create(hessianThreshold=minHessian)\n",
    "# find the keypoints and descriptors with SURF\n",
    "keypoints_obj, descriptors_obj = surf.detectAndCompute(img_object,None)\n",
    "keypoints_scene, descriptors_scene = surf.detectAndCompute(img_scene,None)"
   ]
  },
  {
   "attachments": {},
   "cell_type": "markdown",
   "metadata": {},
   "source": [
    "#### ORB"
   ]
  },
  {
   "cell_type": "code",
   "execution_count": 17,
   "metadata": {},
   "outputs": [],
   "source": [
    "orb = cv.ORB_create()\n",
    "\n",
    "# find the keypoints and descriptors with SIFT\n",
    "keypoints_obj, descriptors_obj = orb.detectAndCompute(img_object,None)\n",
    "keypoints_scene, descriptors_scene = orb.detectAndCompute(img_scene,None)"
   ]
  },
  {
   "attachments": {},
   "cell_type": "markdown",
   "metadata": {},
   "source": [
    "#### BRISK"
   ]
  },
  {
   "cell_type": "code",
   "execution_count": null,
   "metadata": {},
   "outputs": [],
   "source": []
  },
  {
   "attachments": {},
   "cell_type": "markdown",
   "metadata": {},
   "source": [
    "### Step 2 - Feature Matching"
   ]
  },
  {
   "attachments": {},
   "cell_type": "markdown",
   "metadata": {},
   "source": [
    "#### Brute-Force"
   ]
  },
  {
   "cell_type": "code",
   "execution_count": 18,
   "metadata": {},
   "outputs": [],
   "source": [
    "#bf = cv.BFMatcher()\n",
    "bf = cv.BFMatcher(cv.NORM_HAMMING, crossCheck=True) # used for ORB\n",
    "knn_matches = bf.match(descriptors_obj,descriptors_scene)\n",
    "knn_matches = sorted(knn_matches, key = lambda x:x.distance)[:10]"
   ]
  },
  {
   "attachments": {},
   "cell_type": "markdown",
   "metadata": {},
   "source": [
    "#### FLANN"
   ]
  },
  {
   "cell_type": "code",
   "execution_count": 3,
   "metadata": {},
   "outputs": [],
   "source": [
    "flann = cv.DescriptorMatcher_create(cv.DescriptorMatcher_FLANNBASED)\n",
    "knn_matches = flann.knnMatch(descriptors_obj, descriptors_scene, 2)"
   ]
  },
  {
   "attachments": {},
   "cell_type": "markdown",
   "metadata": {},
   "source": [
    "#### Step 3 - Correspondence rejection"
   ]
  },
  {
   "attachments": {},
   "cell_type": "markdown",
   "metadata": {},
   "source": [
    "#### Lowe's Ration (mandatory, in this case)"
   ]
  },
  {
   "cell_type": "code",
   "execution_count": 13,
   "metadata": {},
   "outputs": [
    {
     "ename": "TypeError",
     "evalue": "cannot unpack non-iterable cv2.DMatch object",
     "output_type": "error",
     "traceback": [
      "\u001b[0;31m---------------------------------------------------------------------------\u001b[0m",
      "\u001b[0;31mTypeError\u001b[0m                                 Traceback (most recent call last)",
      "\u001b[1;32m/home/sergio/Documents/feup/FEUP_VC/project/ex1/object_detection.ipynb Cell 20\u001b[0m in \u001b[0;36m3\n\u001b[1;32m      <a href='vscode-notebook-cell:/home/sergio/Documents/feup/FEUP_VC/project/ex1/object_detection.ipynb#X25sZmlsZQ%3D%3D?line=0'>1</a>\u001b[0m ratio_thresh \u001b[39m=\u001b[39m \u001b[39m0.75\u001b[39m\n\u001b[1;32m      <a href='vscode-notebook-cell:/home/sergio/Documents/feup/FEUP_VC/project/ex1/object_detection.ipynb#X25sZmlsZQ%3D%3D?line=1'>2</a>\u001b[0m good_matches \u001b[39m=\u001b[39m []\n\u001b[0;32m----> <a href='vscode-notebook-cell:/home/sergio/Documents/feup/FEUP_VC/project/ex1/object_detection.ipynb#X25sZmlsZQ%3D%3D?line=2'>3</a>\u001b[0m \u001b[39mfor\u001b[39;00m m,n \u001b[39min\u001b[39;00m knn_matches:\n\u001b[1;32m      <a href='vscode-notebook-cell:/home/sergio/Documents/feup/FEUP_VC/project/ex1/object_detection.ipynb#X25sZmlsZQ%3D%3D?line=3'>4</a>\u001b[0m     \u001b[39mif\u001b[39;00m m\u001b[39m.\u001b[39mdistance \u001b[39m<\u001b[39m ratio_thresh \u001b[39m*\u001b[39m n\u001b[39m.\u001b[39mdistance:\n\u001b[1;32m      <a href='vscode-notebook-cell:/home/sergio/Documents/feup/FEUP_VC/project/ex1/object_detection.ipynb#X25sZmlsZQ%3D%3D?line=4'>5</a>\u001b[0m         good_matches\u001b[39m.\u001b[39mappend(m)\n",
      "\u001b[0;31mTypeError\u001b[0m: cannot unpack non-iterable cv2.DMatch object"
     ]
    }
   ],
   "source": [
    "ratio_thresh = 0.75\n",
    "good_matches = []\n",
    "for m,n in knn_matches:\n",
    "    if m.distance < ratio_thresh * n.distance:\n",
    "        good_matches.append(m)\n",
    "\n",
    "img_matches = np.empty((max(img_object.shape[0], img_scene.shape[0]), img_object.shape[1]+img_scene.shape[1], 3), dtype=np.uint8)\n",
    "cv.drawMatches(img_object, keypoints_obj, img_scene, keypoints_scene, good_matches, img_matches, flags=cv.DrawMatchesFlags_NOT_DRAW_SINGLE_POINTS)\n",
    "\n",
    "\n",
    "#-- Localize the object\n",
    "obj = np.empty((len(good_matches),2), dtype=np.float32)\n",
    "scene = np.empty((len(good_matches),2), dtype=np.float32)\n",
    "\n",
    "for i in range(len(good_matches)):\n",
    "    #-- Get the keypoints from the good matches\n",
    "    obj[i,0] = keypoints_obj[good_matches[i].queryIdx].pt[0]\n",
    "    obj[i,1] = keypoints_obj[good_matches[i].queryIdx].pt[1]\n",
    "    scene[i,0] = keypoints_scene[good_matches[i].trainIdx].pt[0]\n",
    "    scene[i,1] = keypoints_scene[good_matches[i].trainIdx].pt[1]"
   ]
  },
  {
   "attachments": {},
   "cell_type": "markdown",
   "metadata": {},
   "source": [
    "#### Without RANSAC"
   ]
  },
  {
   "cell_type": "code",
   "execution_count": null,
   "metadata": {},
   "outputs": [],
   "source": [
    "H, _ =  cv.findHomography(obj, scene)"
   ]
  },
  {
   "attachments": {},
   "cell_type": "markdown",
   "metadata": {},
   "source": [
    "#### With RANSAC"
   ]
  },
  {
   "cell_type": "code",
   "execution_count": 19,
   "metadata": {},
   "outputs": [],
   "source": [
    "H, _ =  cv.findHomography(obj, scene, cv.RANSAC) # ---- RANSAC"
   ]
  },
  {
   "attachments": {},
   "cell_type": "markdown",
   "metadata": {},
   "source": [
    "### Step 4 - Drawing the Polygon"
   ]
  },
  {
   "cell_type": "code",
   "execution_count": 20,
   "metadata": {},
   "outputs": [],
   "source": [
    "obj_corners = np.empty((4,1,2), dtype=np.float32)\n",
    "obj_corners[0,0,0] = 0\n",
    "obj_corners[0,0,1] = 0\n",
    "obj_corners[1,0,0] = img_object.shape[1]\n",
    "obj_corners[1,0,1] = 0\n",
    "obj_corners[2,0,0] = img_object.shape[1]\n",
    "obj_corners[2,0,1] = img_object.shape[0]\n",
    "obj_corners[3,0,0] = 0\n",
    "obj_corners[3,0,1] = img_object.shape[0]\n",
    "scene_corners = cv.perspectiveTransform(obj_corners, H)\n",
    "#-- Draw lines between the corners (the mapped object in the scene - image_2 )\n",
    "cv.line(img_matches, (int(scene_corners[0,0,0] + img_object.shape[1]), int(scene_corners[0,0,1])),\\\n",
    "    (int(scene_corners[1,0,0] + img_object.shape[1]), int(scene_corners[1,0,1])), (0,255,0), 4)\n",
    "cv.line(img_matches, (int(scene_corners[1,0,0] + img_object.shape[1]), int(scene_corners[1,0,1])),\\\n",
    "    (int(scene_corners[2,0,0] + img_object.shape[1]), int(scene_corners[2,0,1])), (0,255,0), 4)\n",
    "cv.line(img_matches, (int(scene_corners[2,0,0] + img_object.shape[1]), int(scene_corners[2,0,1])),\\\n",
    "    (int(scene_corners[3,0,0] + img_object.shape[1]), int(scene_corners[3,0,1])), (0,255,0), 4)\n",
    "cv.line(img_matches, (int(scene_corners[3,0,0] + img_object.shape[1]), int(scene_corners[3,0,1])),\\\n",
    "    (int(scene_corners[0,0,0] + img_object.shape[1]), int(scene_corners[0,0,1])), (0,255,0), 4)\n",
    "#-- Show detected matches\n",
    "cv.imshow('Good Matches & Object detection', img_matches)\n",
    "cv.waitKey(0)\n",
    "cv.destroyAllWindows()"
   ]
  }
 ],
 "metadata": {
  "kernelspec": {
   "display_name": "feup",
   "language": "python",
   "name": "python3"
  },
  "language_info": {
   "codemirror_mode": {
    "name": "ipython",
    "version": 3
   },
   "file_extension": ".py",
   "mimetype": "text/x-python",
   "name": "python",
   "nbconvert_exporter": "python",
   "pygments_lexer": "ipython3",
   "version": "3.8.16"
  },
  "orig_nbformat": 4
 },
 "nbformat": 4,
 "nbformat_minor": 2
}
