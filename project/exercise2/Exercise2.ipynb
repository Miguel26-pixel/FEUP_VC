{
 "cells": [
  {
   "attachments": {},
   "cell_type": "markdown",
   "id": "ce8ecc83",
   "metadata": {},
   "source": [
    "## Exercise 2 - Measure positions and distances on a plane with a single camera"
   ]
  },
  {
   "attachments": {},
   "cell_type": "markdown",
   "id": "814a4a72",
   "metadata": {},
   "source": [
    "- Develop an application that allows the measurement of the positions of points and distances on a plane with a single camera.\n",
    "- Take a photo of a plane, in perspective (/non-frontal) view, on which some points are marked whose coordinates are well known (figure 3).\n",
    "- Using a subset of the points, calculate the homography that relates the points on the plane and on the acquired image.\n",
    "- Calculate the position on the plane and the real distance (in mm) between some points on the plane.\n",
    "- Notes:\n",
    "    - You may select manually the points in the image used to calculate the homography;\n",
    "    - When calculating the homography, establish some wrong correspondence(s) and analyse the effect of using the RANSAC method or not"
   ]
  },
  {
   "cell_type": "markdown",
   "id": "840c4948",
   "metadata": {},
   "source": []
  },
  {
   "cell_type": "code",
   "execution_count": 1,
   "id": "7ff2a659",
   "metadata": {},
   "outputs": [
    {
     "ename": "",
     "evalue": "",
     "output_type": "error",
     "traceback": [
      "\u001b[1;31mThe Kernel crashed while executing code in the the current cell or a previous cell. Please review the code in the cell(s) to identify a possible cause of the failure. Click <a href='https://aka.ms/vscodeJupyterKernelCrash'>here</a> for more info. View Jupyter <a href='command:jupyter.viewOutput'>log</a> for further details."
     ]
    }
   ],
   "source": [
    "import cv2\n",
    "import numpy as np\n",
    "from math import sqrt\n",
    "import math\n",
    "\n",
    "cv2.namedWindow(\"image\", cv2.WINDOW_NORMAL)\n",
    "img1 = cv2.imread('../../images/match_box01a_1.png')          \n",
    "img2 = cv2.imread('../../images/match_box01a_2.png') \n",
    "cv2.imshow('image', img2)"
   ]
  }
 ],
 "metadata": {
  "kernelspec": {
   "display_name": "SAM",
   "language": "python",
   "name": "python3"
  },
  "language_info": {
   "codemirror_mode": {
    "name": "ipython",
    "version": 3
   },
   "file_extension": ".py",
   "mimetype": "text/x-python",
   "name": "python",
   "nbconvert_exporter": "python",
   "pygments_lexer": "ipython3",
   "version": "3.10.10"
  }
 },
 "nbformat": 4,
 "nbformat_minor": 5
}
