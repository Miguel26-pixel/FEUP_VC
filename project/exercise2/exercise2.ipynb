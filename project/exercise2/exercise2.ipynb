{
 "cells": [
  {
   "attachments": {},
   "cell_type": "markdown",
   "metadata": {},
   "source": [
    "## Exercise 2 - Measure positions and distances on a plane with a single camera\n",
    "\n",
    "- Develop an application that allows the measurement of the positions of points and distances on \n",
    "a plane with a single camera.\n",
    "- Take a photo of a plane, in perspective (/non-frontal) view, on which some points are marked \n",
    "whose coordinates are well known (figure 3).\n",
    "- Using a subset of the points, calculate the homography that relates the points on the plane and \n",
    "on the acquired image.\n",
    "- Calculate the position on the plane and the real distance (in mm) between some points on the \n",
    "plane.\n",
    "- Notes:\n",
    "    - You may select manually the points in the image used to calculate the homography;\n",
    "    - When calculating the homography, establish some wrong correspondence(s) and analyse \n",
    "the effect of using the RANSAC method or not.\n",
    "\n",
    "\n"
   ]
  }
 ],
 "metadata": {
  "language_info": {
   "name": "python"
  },
  "orig_nbformat": 4
 },
 "nbformat": 4,
 "nbformat_minor": 2
}
